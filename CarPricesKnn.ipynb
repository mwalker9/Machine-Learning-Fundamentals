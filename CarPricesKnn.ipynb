{
 "cells": [
  {
   "cell_type": "markdown",
   "metadata": {},
   "source": [
    "Using basic k nearest neighbor regressor to predict car prices.  First, evaluates each feature for error and then picks the best performing columns and evaluates different values for k."
   ]
  },
  {
   "cell_type": "code",
   "execution_count": 2,
   "metadata": {
    "collapsed": true
   },
   "outputs": [],
   "source": [
    "import pandas as pd\n",
    "import numpy as np"
   ]
  },
  {
   "cell_type": "code",
   "execution_count": 3,
   "metadata": {
    "collapsed": false
   },
   "outputs": [
    {
     "name": "stdout",
     "output_type": "stream",
     "text": [
      "<class 'pandas.core.frame.DataFrame'>\n",
      "RangeIndex: 205 entries, 0 to 204\n",
      "Data columns (total 26 columns):\n",
      "symboling            205 non-null int64\n",
      "normalized-losses    164 non-null float64\n",
      "make                 205 non-null object\n",
      "fuel-type            205 non-null object\n",
      "aspiration           205 non-null object\n",
      "num-of-doors         203 non-null object\n",
      "body-style           205 non-null object\n",
      "drive-wheels         205 non-null object\n",
      "engine-location      205 non-null object\n",
      "wheel-base           205 non-null float64\n",
      "length               205 non-null float64\n",
      "width                205 non-null float64\n",
      "height               205 non-null float64\n",
      "curb-weight          205 non-null int64\n",
      "engine-type          205 non-null object\n",
      "num-of-cylinders     205 non-null object\n",
      "engine-size          205 non-null int64\n",
      "fuel-system          205 non-null object\n",
      "bore                 201 non-null float64\n",
      "stroke               201 non-null float64\n",
      "compression-rate     205 non-null float64\n",
      "horsepower           203 non-null float64\n",
      "peak-rpm             203 non-null float64\n",
      "city-mpg             205 non-null int64\n",
      "highway-mpg          205 non-null int64\n",
      "price                201 non-null float64\n",
      "dtypes: float64(11), int64(5), object(10)\n",
      "memory usage: 41.7+ KB\n"
     ]
    }
   ],
   "source": [
    "col_names=[\n",
    "            'symboling', 'normalized-losses', 'make', 'fuel-type', 'aspiration', 'num-of-doors', 'body-style', \n",
    "            'drive-wheels', 'engine-location', 'wheel-base', 'length', 'width', 'height', 'curb-weight', 'engine-type', \n",
    "            'num-of-cylinders', 'engine-size', 'fuel-system', 'bore', 'stroke', 'compression-rate', 'horsepower', 'peak-rpm', 'city-mpg', 'highway-mpg', 'price'\n",
    "          ]\n",
    "cars = pd.read_csv('imports-85.data', header=None, names=col_names, na_values='?')\n",
    "cars.info()"
   ]
  },
  {
   "cell_type": "code",
   "execution_count": 4,
   "metadata": {
    "collapsed": true
   },
   "outputs": [],
   "source": [
    "cars.drop(columns=['normalized-losses'], inplace=True)"
   ]
  },
  {
   "cell_type": "code",
   "execution_count": 5,
   "metadata": {
    "collapsed": false
   },
   "outputs": [],
   "source": [
    "knn_feature_columns = [\n",
    "    'wheel-base', 'length', 'width', 'height', \n",
    "    'curb-weight', 'engine-size', 'bore', 'stroke', \n",
    "    'compression-rate', 'horsepower', 'peak-rpm', 'city-mpg',\n",
    "    'highway-mpg'\n",
    "]\n",
    "data_set_features = cars[knn_feature_columns]\n",
    "data_set_features = (data_set_features - data_set_features.min())/(data_set_features.max()-data_set_features.min())\n",
    "cleaned_data_set = pd.concat([data_set_features, cars['price']], axis=1)\n",
    "cleaned_data_set.dropna(inplace=True)"
   ]
  },
  {
   "cell_type": "code",
   "execution_count": 13,
   "metadata": {
    "collapsed": false
   },
   "outputs": [],
   "source": [
    "from sklearn.neighbors import KNeighborsRegressor\n",
    "from sklearn.metrics import mean_squared_error\n",
    "def knn_train_test(train_col_name, targ_col_name, df, k=5):\n",
    "    instances = df.shape[0]\n",
    "    test_rows = instances // 3\n",
    "    test_set = df.iloc[:test_rows]\n",
    "    train_set = df.iloc[test_rows:]\n",
    "    knn = KNeighborsRegressor(n_neighbors=k)\n",
    "    knn.fit(train_set[[train_col_name]], train_set[targ_col_name])\n",
    "    predictions = knn.predict(test_set[[train_col_name]])\n",
    "    return np.sqrt(mean_squared_error(test_set[targ_col_name], predictions))\n",
    "    "
   ]
  },
  {
   "cell_type": "code",
   "execution_count": 14,
   "metadata": {
    "collapsed": false
   },
   "outputs": [
    {
     "name": "stdout",
     "output_type": "stream",
     "text": [
      "wheel-base 7471.255655973973\n",
      "length 6936.281648636522\n",
      "width 5726.745723727876\n",
      "height 10397.651060580358\n",
      "curb-weight 5947.502477482302\n",
      "engine-size 4630.119777114557\n",
      "bore 9669.839477695918\n",
      "stroke 10264.506559886291\n",
      "compression-rate 8594.296994155002\n",
      "horsepower 7084.201931124611\n",
      "peak-rpm 9961.01386823605\n",
      "city-mpg 5618.794045870923\n",
      "highway-mpg 6044.569603734989\n"
     ]
    }
   ],
   "source": [
    "k_performance_ind_columns = []\n",
    "for col_name in knn_feature_columns:\n",
    "    total_rmse = 0\n",
    "    for k in range(1, 10, 2):\n",
    "        rmse = knn_train_test(col_name, 'price', cleaned_data_set, k=k)\n",
    "        k_performance_ind_columns.append((k, rmse))\n",
    "        total_rmse += rmse\n",
    "    print(col_name, rmse)"
   ]
  },
  {
   "cell_type": "code",
   "execution_count": 8,
   "metadata": {
    "collapsed": true
   },
   "outputs": [],
   "source": [
    "import matplotlib.pyplot as plt\n",
    "%matplotlib inline"
   ]
  },
  {
   "cell_type": "code",
   "execution_count": 9,
   "metadata": {
    "collapsed": false
   },
   "outputs": [
    {
     "data": {
      "text/plain": [
       "<matplotlib.text.Text at 0x7fbc214acf60>"
      ]
     },
     "execution_count": 9,
     "metadata": {},
     "output_type": "execute_result"
    },
    {
     "data": {
      "image/png": "[encoded data removed]",
      "text/plain": [
       "<matplotlib.figure.Figure at 0x7fbc2123da90>"
      ]
     },
     "metadata": {},
     "output_type": "display_data"
    }
   ],
   "source": [
    "unzipped = [list(t) for t in zip(*k_performance_ind_columns)]\n",
    "plt.scatter(unzipped[0], unzipped[1])\n",
    "plt.xlabel('k value')\n",
    "plt.ylabel('rmse')"
   ]
  },
  {
   "cell_type": "code",
   "execution_count": 15,
   "metadata": {
    "collapsed": true
   },
   "outputs": [],
   "source": [
    "#rewrite to accept list of columns to train on\n",
    "def knn_train_test(train_col_names, targ_col_name, df, k=5):\n",
    "    instances = df.shape[0]\n",
    "    test_rows = instances // 3\n",
    "    test_set = df.iloc[:test_rows]\n",
    "    train_set = df.iloc[test_rows:]\n",
    "    knn = KNeighborsRegressor(n_neighbors=k)\n",
    "    knn.fit(train_set[train_col_names], train_set[targ_col_name])\n",
    "    predictions = knn.predict(test_set[train_col_names])\n",
    "    return np.sqrt(mean_squared_error(test_set[targ_col_name], predictions))\n"
   ]
  },
  {
   "cell_type": "code",
   "execution_count": 17,
   "metadata": {
    "collapsed": true
   },
   "outputs": [],
   "source": [
    "best_two_rmse = knn_train_test(['engine-size', 'city-mpg'], 'price', cleaned_data_set)\n",
    "best_three_rmse = knn_train_test(['engine-size', 'city-mpg', 'width'], 'price', cleaned_data_set)\n",
    "best_four_rmse = knn_train_test(['engine-size', 'city-mpg', 'width', 'curb-weight'], 'price', cleaned_data_set)\n",
    "best_five_rmse = knn_train_test(['engine-size', 'city-mpg', 'width', 'curb-weight', 'highway-mpg'], 'price', cleaned_data_set)"
   ]
  },
  {
   "cell_type": "code",
   "execution_count": 18,
   "metadata": {
    "collapsed": false
   },
   "outputs": [
    {
     "name": "stdout",
     "output_type": "stream",
     "text": [
      "4378.002396878846 5584.296373168657 5536.444331156957 5544.8072624060405\n"
     ]
    }
   ],
   "source": [
    "print(best_two_rmse, best_three_rmse, best_four_rmse, best_five_rmse)"
   ]
  },
  {
   "cell_type": "code",
   "execution_count": 19,
   "metadata": {
    "collapsed": false
   },
   "outputs": [
    {
     "name": "stdout",
     "output_type": "stream",
     "text": [
      "two features...\n",
      "1 4575.61335274804\n",
      "2 4409.180545704086\n",
      "3 4515.4613486833205\n",
      "4 4352.505076213184\n",
      "5 4378.002396878846\n",
      "6 4528.890569132741\n",
      "7 4626.033606596082\n",
      "8 4875.838338567652\n",
      "9 5055.55543818916\n",
      "10 5278.415953426237\n",
      "11 5411.106608910443\n",
      "12 5580.686268809247\n",
      "13 5678.032306066079\n",
      "14 5747.546612303075\n",
      "15 5804.3493365390395\n",
      "16 5897.409394913494\n",
      "17 6009.252736054726\n",
      "18 5998.643091189047\n",
      "19 5970.668337817223\n",
      "20 5954.8091509300275\n",
      "21 6002.337671972442\n",
      "22 6073.490285170131\n",
      "23 6119.6003184745705\n",
      "24 6204.678593172896\n",
      "25 6265.175927200227\n"
     ]
    }
   ],
   "source": [
    "print('two features...')\n",
    "for k in range(1, 26):\n",
    "    best_two_rmse = knn_train_test(['engine-size', 'city-mpg'], 'price', cleaned_data_set, k=k)\n",
    "    print(k, best_two_rmse)"
   ]
  },
  {
   "cell_type": "code",
   "execution_count": 20,
   "metadata": {
    "collapsed": false
   },
   "outputs": [
    {
     "name": "stdout",
     "output_type": "stream",
     "text": [
      "four features...\n",
      "1 5182.787889513935\n",
      "2 5727.843848255642\n",
      "3 5573.759711944508\n",
      "4 5414.553144606601\n",
      "5 5536.444331156957\n",
      "6 5581.29590211884\n",
      "7 5722.0469402839735\n",
      "8 5710.369534005995\n",
      "9 5787.140590929452\n",
      "10 5940.841926476803\n",
      "11 6010.237572324306\n",
      "12 5935.297238414714\n",
      "13 5968.363278620056\n",
      "14 6044.127254825751\n",
      "15 6066.613028373757\n",
      "16 6171.890425535737\n",
      "17 6214.0307246118455\n",
      "18 6277.758120221096\n",
      "19 6295.949565721969\n",
      "20 6376.13102483063\n",
      "21 6366.838800446176\n",
      "22 6398.456502555795\n",
      "23 6427.839245335838\n",
      "24 6467.748025923935\n",
      "25 6512.214327652308\n"
     ]
    }
   ],
   "source": [
    "print('four features...')\n",
    "for k in range(1, 26):\n",
    "    best_four_rmse = knn_train_test(['engine-size', 'city-mpg', 'width', 'curb-weight'], 'price', cleaned_data_set, k=k)\n",
    "    print(k, best_four_rmse)"
   ]
  },
  {
   "cell_type": "code",
   "execution_count": 21,
   "metadata": {
    "collapsed": false
   },
   "outputs": [
    {
     "name": "stdout",
     "output_type": "stream",
     "text": [
      "five features...\n",
      "1 5470.379311837947\n",
      "2 5813.978291417756\n",
      "3 5640.271609208286\n",
      "4 5466.196408469196\n",
      "5 5544.8072624060405\n",
      "6 5549.943633231898\n",
      "7 5630.542778389829\n",
      "8 5616.977102815864\n",
      "9 5760.794199296453\n",
      "10 5857.908487046839\n",
      "11 5985.297489346891\n",
      "12 5962.231873820478\n",
      "13 6094.145247519189\n",
      "14 6141.317075179916\n",
      "15 6212.595735618263\n",
      "16 6224.006565984121\n",
      "17 6279.715940796905\n",
      "18 6327.419782358701\n",
      "19 6374.953460131028\n",
      "20 6392.106330975729\n",
      "21 6405.0893046185965\n",
      "22 6472.658584585354\n",
      "23 6510.668663554466\n",
      "24 6549.5980910511\n",
      "25 6538.631550229875\n"
     ]
    }
   ],
   "source": [
    "print('five features...')\n",
    "for k in range(1, 26):\n",
    "    best_five_rmse = knn_train_test(['engine-size', 'city-mpg', 'width', 'curb-weight', 'highway-mpg'], 'price', cleaned_data_set, k=k)\n",
    "    print(k, best_five_rmse)"
   ]
  }
 ],
 "metadata": {
  "kernelspec": {
   "display_name": "Python 3",
   "language": "python",
   "name": "python3"
  },
  "language_info": {
   "codemirror_mode": {
    "name": "ipython",
    "version": 3
   },
   "file_extension": ".py",
   "mimetype": "text/x-python",
   "name": "python",
   "nbconvert_exporter": "python",
   "pygments_lexer": "ipython3",
   "version": "3.4.3"
  }
 },
 "nbformat": 4,
 "nbformat_minor": 2
}
